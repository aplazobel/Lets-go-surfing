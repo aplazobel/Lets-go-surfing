{
 "cells": [
  {
   "cell_type": "code",
   "execution_count": 1,
   "metadata": {},
   "outputs": [],
   "source": [
    "coordinates = [-8.409518, 115.188919]"
   ]
  },
  {
   "cell_type": "code",
   "execution_count": 3,
   "metadata": {},
   "outputs": [],
   "source": [
    "import json\n",
    "import requests"
   ]
  },
  {
   "cell_type": "code",
   "execution_count": 17,
   "metadata": {},
   "outputs": [],
   "source": [
    "latitude = 41.113730\n",
    "longitude = -8.658679\n",
    "distance = 1"
   ]
  },
  {
   "cell_type": "code",
   "execution_count": 55,
   "metadata": {},
   "outputs": [
    {
     "data": {
      "text/plain": [
       "[{'data': {'id': '5443',\n",
       "   'type': 'location',\n",
       "   'attributes': {'id': 5443,\n",
       "    'direction': None,\n",
       "    'experience': 'Experienced surfers',\n",
       "    'frequency': 'Sometimes break',\n",
       "    'bottom': 'Point-break',\n",
       "    'wave_quality': 'Normal',\n",
       "    'name': 'Canidelo',\n",
       "    'latitude': 41.113531,\n",
       "    'longitude': -8.665331,\n",
       "    'address': 'Praia Canide Sul, Avenida da Beira Mar, Lavadores, Canidelo, Vila Nova de Gaia, Porto, Área Metropolitana do Porto, North, 4400-044, Portugal',\n",
       "    'with_forecast': False,\n",
       "    'best_wind_direction': ['South', 'East'],\n",
       "    'best_swell_direction': ['North', 'South', 'East'],\n",
       "    'forecast_info': {'tide_chart': None, 'hourly': None, 'daily': None},\n",
       "    'last_camera_at': None,\n",
       "    'distance': 0.6},\n",
       "   'relationships': {}}},\n",
       " {'data': {'id': '5469',\n",
       "   'type': 'location',\n",
       "   'attributes': {'id': 5469,\n",
       "    'direction': None,\n",
       "    'experience': 'Experienced surfers',\n",
       "    'frequency': 'Regular',\n",
       "    'bottom': 'Beach-break',\n",
       "    'wave_quality': 'Regional Classic',\n",
       "    'name': 'Praia da Sereia',\n",
       "    'latitude': 41.116866,\n",
       "    'longitude': -8.666153,\n",
       "    'address': 'Praia Sereia da Costa Verde, Avenida da Beira Mar, Lavadores, Canidelo, Vila Nova de Gaia, Porto, Área Metropolitana do Porto, North, 4400-044, Portugal',\n",
       "    'with_forecast': False,\n",
       "    'best_wind_direction': ['SouthEast', 'East', 'NorthEast'],\n",
       "    'best_swell_direction': ['NorthWest'],\n",
       "    'forecast_info': {'tide_chart': None, 'hourly': None, 'daily': None},\n",
       "    'last_camera_at': None,\n",
       "    'distance': 0.7},\n",
       "   'relationships': {}}}]"
      ]
     },
     "execution_count": 55,
     "metadata": {},
     "output_type": "execute_result"
    }
   ],
   "source": [
    "url = f\"https://surfvideos.xyz/locations.json?latitude={latitude}&longitude={longitude}&distance={distance}\"\n",
    "\n",
    "payload = {}\n",
    "headers = {\n",
    "  'X-User-Email': 'ap1468@georgetown.edu',\n",
    "  'X-User-Token': 'edJsbzQC2YbM2bYFPWYm',\n",
    "  'Accept': '{{Accept}}',\n",
    "  'Content-Type': '{{Content}}'\n",
    "}\n",
    "\n",
    "response = requests.request(\"GET\", url, headers=headers, data = payload)\n",
    "\n",
    "\n",
    "data = response.json()\n",
    "data"
   ]
  },
  {
   "cell_type": "code",
   "execution_count": 67,
   "metadata": {},
   "outputs": [
    {
     "data": {
      "text/plain": [
       "41.113531"
      ]
     },
     "execution_count": 67,
     "metadata": {},
     "output_type": "execute_result"
    }
   ],
   "source": [
    "latitude = data[0][\"data\"][\"attributes\"][\"latitude\"]\n",
    "latitude"
   ]
  },
  {
   "cell_type": "code",
   "execution_count": 63,
   "metadata": {},
   "outputs": [
    {
     "data": {
      "text/plain": [
       "-8.665331"
      ]
     },
     "execution_count": 63,
     "metadata": {},
     "output_type": "execute_result"
    }
   ],
   "source": [
    "longitude= data[0][\"data\"][\"attributes\"][\"longitude\"]\n",
    "longitude"
   ]
  },
  {
   "cell_type": "code",
   "execution_count": 78,
   "metadata": {},
   "outputs": [],
   "source": [
    "def extractBeachCoordinates(data):\n",
    "    for i in range(len(data)):\n",
    "        lat = data[i][\"data\"][\"attributes\"][\"latitude\"]\n",
    "        long = data[i][\"data\"][\"attributes\"][\"longitude\"]\n",
    "        print( f\"{lat},{long}\")"
   ]
  },
  {
   "cell_type": "code",
   "execution_count": 79,
   "metadata": {},
   "outputs": [
    {
     "name": "stdout",
     "output_type": "stream",
     "text": [
      "41.113531,-8.665331\n",
      "41.116866,-8.666153\n"
     ]
    }
   ],
   "source": [
    "extractBeachCoordinates(data)"
   ]
  },
  {
   "cell_type": "code",
   "execution_count": null,
   "metadata": {},
   "outputs": [],
   "source": []
  }
 ],
 "metadata": {
  "kernelspec": {
   "display_name": "Python 3",
   "language": "python",
   "name": "python3"
  },
  "language_info": {
   "codemirror_mode": {
    "name": "ipython",
    "version": 3
   },
   "file_extension": ".py",
   "mimetype": "text/x-python",
   "name": "python",
   "nbconvert_exporter": "python",
   "pygments_lexer": "ipython3",
   "version": "3.7.7"
  }
 },
 "nbformat": 4,
 "nbformat_minor": 4
}
