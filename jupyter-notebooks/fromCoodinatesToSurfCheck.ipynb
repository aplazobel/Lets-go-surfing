{
 "cells": [
  {
   "cell_type": "code",
   "execution_count": 1,
   "metadata": {},
   "outputs": [],
   "source": [
    "coordinates = [-8.409518, 115.188919]"
   ]
  },
  {
   "cell_type": "code",
   "execution_count": 3,
   "metadata": {},
   "outputs": [],
   "source": [
    "import json\n",
    "import requests"
   ]
  },
  {
   "cell_type": "code",
   "execution_count": 17,
   "metadata": {},
   "outputs": [],
   "source": [
    "latitude = 41.113730\n",
    "longitude = -8.658679\n",
    "distance = 1"
   ]
  },
  {
   "cell_type": "code",
   "execution_count": 25,
   "metadata": {},
   "outputs": [
    {
     "name": "stdout",
     "output_type": "stream",
     "text": [
      "[{'data': {'id': '5443', 'type': 'location', 'attributes': {'id': 5443, 'direction': None, 'experience': 'Experienced surfers', 'frequency': 'Sometimes break', 'bottom': 'Point-break', 'wave_quality': 'Normal', 'name': 'Canidelo', 'latitude': 41.113531, 'longitude': -8.665331, 'address': 'Praia Canide Sul, Avenida da Beira Mar, Lavadores, Canidelo, Vila Nova de Gaia, Porto, Área Metropolitana do Porto, North, 4400-044, Portugal', 'with_forecast': False, 'best_wind_direction': ['South', 'East'], 'best_swell_direction': ['North', 'South', 'East'], 'forecast_info': {'tide_chart': None, 'hourly': None, 'daily': None}, 'last_camera_at': None, 'distance': 0.6}, 'relationships': {}}}, {'data': {'id': '5469', 'type': 'location', 'attributes': {'id': 5469, 'direction': None, 'experience': 'Experienced surfers', 'frequency': 'Regular', 'bottom': 'Beach-break', 'wave_quality': 'Regional Classic', 'name': 'Praia da Sereia', 'latitude': 41.116866, 'longitude': -8.666153, 'address': 'Praia Sereia da Costa Verde, Avenida da Beira Mar, Lavadores, Canidelo, Vila Nova de Gaia, Porto, Área Metropolitana do Porto, North, 4400-044, Portugal', 'with_forecast': False, 'best_wind_direction': ['SouthEast', 'East', 'NorthEast'], 'best_swell_direction': ['NorthWest'], 'forecast_info': {'tide_chart': None, 'hourly': None, 'daily': None}, 'last_camera_at': None, 'distance': 0.7}, 'relationships': {}}}]\n"
     ]
    }
   ],
   "source": [
    "url = f\"https://surfvideos.xyz/locations.json?latitude={latitude}&longitude={longitude}&distance={distance}\"\n",
    "\n",
    "payload = {}\n",
    "headers = {\n",
    "  'X-User-Email': 'ap1468@georgetown.edu',\n",
    "  'X-User-Token': 'edJsbzQC2YbM2bYFPWYm',\n",
    "  'Accept': '{{Accept}}',\n",
    "  'Content-Type': '{{Content}}'\n",
    "}\n",
    "\n",
    "response = requests.request(\"GET\", url, headers=headers, data = payload)\n",
    "\n",
    "\n",
    "data = response.json()\n",
    "print(data)"
   ]
  },
  {
   "cell_type": "code",
   "execution_count": 37,
   "metadata": {},
   "outputs": [
    {
     "data": {
      "text/plain": [
       "[[{'data': {'id': '5443',\n",
       "    'type': 'location',\n",
       "    'attributes': {'id': 5443,\n",
       "     'direction': None,\n",
       "     'experience': 'Experienced surfers',\n",
       "     'frequency': 'Sometimes break',\n",
       "     'bottom': 'Point-break',\n",
       "     'wave_quality': 'Normal',\n",
       "     'name': 'Canidelo',\n",
       "     'latitude': 41.113531,\n",
       "     'longitude': -8.665331,\n",
       "     'address': 'Praia Canide Sul, Avenida da Beira Mar, Lavadores, Canidelo, Vila Nova de Gaia, Porto, Área Metropolitana do Porto, North, 4400-044, Portugal',\n",
       "     'with_forecast': False,\n",
       "     'best_wind_direction': ['South', 'East'],\n",
       "     'best_swell_direction': ['North', 'South', 'East'],\n",
       "     'forecast_info': {'tide_chart': None, 'hourly': None, 'daily': None},\n",
       "     'last_camera_at': None,\n",
       "     'distance': 0.6},\n",
       "    'relationships': {}}},\n",
       "  {'data': {'id': '5469',\n",
       "    'type': 'location',\n",
       "    'attributes': {'id': 5469,\n",
       "     'direction': None,\n",
       "     'experience': 'Experienced surfers',\n",
       "     'frequency': 'Regular',\n",
       "     'bottom': 'Beach-break',\n",
       "     'wave_quality': 'Regional Classic',\n",
       "     'name': 'Praia da Sereia',\n",
       "     'latitude': 41.116866,\n",
       "     'longitude': -8.666153,\n",
       "     'address': 'Praia Sereia da Costa Verde, Avenida da Beira Mar, Lavadores, Canidelo, Vila Nova de Gaia, Porto, Área Metropolitana do Porto, North, 4400-044, Portugal',\n",
       "     'with_forecast': False,\n",
       "     'best_wind_direction': ['SouthEast', 'East', 'NorthEast'],\n",
       "     'best_swell_direction': ['NorthWest'],\n",
       "     'forecast_info': {'tide_chart': None, 'hourly': None, 'daily': None},\n",
       "     'last_camera_at': None,\n",
       "     'distance': 0.7},\n",
       "    'relationships': {}}}]]"
      ]
     },
     "execution_count": 37,
     "metadata": {},
     "output_type": "execute_result"
    }
   ],
   "source": [
    "name = [data]\n",
    "name"
   ]
  },
  {
   "cell_type": "code",
   "execution_count": null,
   "metadata": {},
   "outputs": [],
   "source": []
  }
 ],
 "metadata": {
  "kernelspec": {
   "display_name": "Python 3",
   "language": "python",
   "name": "python3"
  },
  "language_info": {
   "codemirror_mode": {
    "name": "ipython",
    "version": 3
   },
   "file_extension": ".py",
   "mimetype": "text/x-python",
   "name": "python",
   "nbconvert_exporter": "python",
   "pygments_lexer": "ipython3",
   "version": "3.7.7"
  }
 },
 "nbformat": 4,
 "nbformat_minor": 4
}
